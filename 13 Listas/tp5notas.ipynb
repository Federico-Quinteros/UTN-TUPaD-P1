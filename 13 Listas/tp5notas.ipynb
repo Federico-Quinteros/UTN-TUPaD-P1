{
 "cells": [
  {
   "cell_type": "code",
   "execution_count": 3,
   "id": "81ebe544",
   "metadata": {},
   "outputs": [
    {
     "name": "stdout",
     "output_type": "stream",
     "text": [
      "[4, 8, 12, 16, 20, 24, 28, 32, 36, 40, 44, 48, 52, 56, 60, 64, 68, 72, 76, 80, 84, 88, 92, 96, 100]\n"
     ]
    }
   ],
   "source": [
    "#Actividad 1\n",
    "multiplos4 = list(range(4,101,4))\n",
    "print(multiplos4)"
   ]
  },
  {
   "cell_type": "code",
   "execution_count": 4,
   "id": "b3dc37ac",
   "metadata": {},
   "outputs": [
    {
     "name": "stdout",
     "output_type": "stream",
     "text": [
      "4\n"
     ]
    }
   ],
   "source": [
    "#Actividad 2\n",
    "miLista = [1,2,3,4,5]\n",
    "print(miLista[3])"
   ]
  },
  {
   "cell_type": "code",
   "execution_count": 6,
   "id": "07f9be19",
   "metadata": {},
   "outputs": [
    {
     "name": "stdout",
     "output_type": "stream",
     "text": [
      "[1, 2, 3]\n"
     ]
    }
   ],
   "source": [
    "#Actividad 3\n",
    "lista_vacia = []\n",
    "lista_vacia.append(1)\n",
    "lista_vacia.append(2)\n",
    "lista_vacia.append(3)\n",
    "print(lista_vacia)\n"
   ]
  },
  {
   "cell_type": "code",
   "execution_count": 7,
   "id": "589f0894",
   "metadata": {},
   "outputs": [
    {
     "name": "stdout",
     "output_type": "stream",
     "text": [
      "['perro', 'loro', 'conejo', 'oso']\n"
     ]
    }
   ],
   "source": [
    "#Actividad 4\n",
    "animales = [\"perro\",\"gato\",\"conejo\",\"pez\"]\n",
    "animales[1] = \"loro\"\n",
    "animales[3] = \"oso\"\n",
    "print(animales)"
   ]
  },
  {
   "cell_type": "code",
   "execution_count": null,
   "id": "e8898719",
   "metadata": {},
   "outputs": [
    {
     "name": "stdout",
     "output_type": "stream",
     "text": [
      "[8, 15, 3, 7]\n"
     ]
    }
   ],
   "source": [
    "#Actividad 5\n",
    "numeros = [8,15,3,22,7]\n",
    "numeros.remove(max(numeros))\n",
    "print(numeros)\n",
    "\n",
    "# El programa remueve el número mayor de la lista \"numeros\""
   ]
  },
  {
   "cell_type": "code",
   "execution_count": 12,
   "id": "6f9c9bbd",
   "metadata": {},
   "outputs": [
    {
     "name": "stdout",
     "output_type": "stream",
     "text": [
      "[10, 15]\n"
     ]
    }
   ],
   "source": [
    "#Actividad 6\n",
    "mi_lista = list(range(10,31,5))\n",
    "print(mi_lista[0:2])"
   ]
  },
  {
   "cell_type": "code",
   "execution_count": 13,
   "id": "e64e3cd1",
   "metadata": {},
   "outputs": [
    {
     "name": "stdout",
     "output_type": "stream",
     "text": [
      "['sedan', 'golf', 'vento', 'gol']\n"
     ]
    }
   ],
   "source": [
    "#Actividad 7\n",
    "autos = [\"sedan\",\"polo\",\"suran\",\"gol\"]\n",
    "autos[1] = \"golf\"\n",
    "autos[2] = \"vento\"\n",
    "print(autos)"
   ]
  },
  {
   "cell_type": "code",
   "execution_count": 14,
   "id": "ae2cc184",
   "metadata": {},
   "outputs": [
    {
     "name": "stdout",
     "output_type": "stream",
     "text": [
      "[10, 20, 30]\n"
     ]
    }
   ],
   "source": [
    "#Actividad 8\n",
    "dobles = []\n",
    "dobles.append(5*2)\n",
    "dobles.append(10*2)\n",
    "dobles.append(15*2)\n",
    "print(dobles)\n"
   ]
  },
  {
   "cell_type": "code",
   "execution_count": 15,
   "id": "fa0560ef",
   "metadata": {},
   "outputs": [
    {
     "name": "stdout",
     "output_type": "stream",
     "text": [
      "[['leche'], ['arroz', 'tallarines', 'salsa'], ['agua', 'jugo']]\n"
     ]
    }
   ],
   "source": [
    "#Actividad 9\n",
    "compras = [[\"pan\", \"leche\"], [\"arroz\", \"fideos\", \"salsa\"], [\"agua\"]]\n",
    "compras[2].append(\"jugo\")\n",
    "compras[1][1] = \"tallarines\"\n",
    "compras[0].remove(\"pan\")\n",
    "print(compras)"
   ]
  },
  {
   "cell_type": "code",
   "execution_count": 25,
   "id": "9c909760",
   "metadata": {},
   "outputs": [
    {
     "name": "stdout",
     "output_type": "stream",
     "text": [
      "[15, True, [25.5, 57.9, 30.6], False]\n"
     ]
    }
   ],
   "source": [
    "#Actividad 10\n",
    "lista_anidada = [15,True,[25.5,57.9,30.6],False]\n",
    "print(lista_anidada)\n"
   ]
  }
 ],
 "metadata": {
  "kernelspec": {
   "display_name": "Python 3",
   "language": "python",
   "name": "python3"
  },
  "language_info": {
   "codemirror_mode": {
    "name": "ipython",
    "version": 3
   },
   "file_extension": ".py",
   "mimetype": "text/x-python",
   "name": "python",
   "nbconvert_exporter": "python",
   "pygments_lexer": "ipython3",
   "version": "3.11.9"
  }
 },
 "nbformat": 4,
 "nbformat_minor": 5
}
